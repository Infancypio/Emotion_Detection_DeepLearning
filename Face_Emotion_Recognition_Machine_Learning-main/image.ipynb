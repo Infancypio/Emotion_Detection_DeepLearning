{
 "cells": [
  {
   "cell_type": "code",
   "execution_count": 1,
   "metadata": {},
   "outputs": [],
   "source": [
    "import graphviz\n",
    "\n",
    "def create_test_environment_diagram():\n",
    "    dot = graphviz.Digraph('TestEnvironment', format='png', filename='test_environment_diagram')\n",
    "    \n",
    "    nodes = [\n",
    "        'Internet', 'Firewall', 'WebServer', 'BackendServer', 'DatabaseServer',\n",
    "        'MobileDevices', 'WearableDevices', 'NetworkInfrastructure', 'TestingTools',\n",
    "        'MonitoringTools', 'DeploymentTools', 'BackupRecovery', 'DocumentationTools',\n",
    "        'VersionControl', 'UserSupport'\n",
    "    ]\n",
    "\n",
    "    for node in nodes:\n",
    "        dot.node(node)\n",
    "\n",
    "    edges = [\n",
    "        ('Firewall', 'Internet'), ('WebServer', 'Firewall'), ('BackendServer', 'WebServer'),\n",
    "        ('DatabaseServer', 'BackendServer'), ('MobileDevices', 'NetworkInfrastructure'),\n",
    "        ('WearableDevices', 'MobileDevices'), ('TestingTools', 'BackendServer'),\n",
    "        ('MonitoringTools', 'BackendServer'), ('DeploymentTools', 'BackendServer'),\n",
    "        ('BackupRecovery', 'BackendServer'), ('DocumentationTools', 'BackendServer'),\n",
    "        ('VersionControl', 'BackendServer'), ('UserSupport', 'BackendServer')\n",
    "    ]\n",
    "\n",
    "    for edge in edges:\n",
    "        dot.edge(*edge)\n",
    "\n",
    "    dot.render(view=True)\n",
    "\n",
    "if __name__ == \"__main__\":\n",
    "    create_test_environment_diagram()\n"
   ]
  },
  {
   "cell_type": "code",
   "execution_count": 2,
   "metadata": {},
   "outputs": [],
   "source": [
    "from graphviz import Digraph\n",
    "\n",
    "def create_test_environment_diagram():\n",
    "    # Create a directed graph\n",
    "    graph = Digraph('TestEnvironment', format='png', filename='test_environment_diagram')\n",
    "\n",
    "    # Add nodes to the graph\n",
    "    graph.node('Internet')\n",
    "    graph.node('Firewall')\n",
    "    graph.node('WebServer', 'Web Server (Apache/Nginx)')\n",
    "    graph.node('BackendServer', 'Backend Server')\n",
    "    graph.node('DatabaseServer', 'Database Server')\n",
    "    graph.node('MobileDevices', 'Mobile Devices\\n(iOS, Android)')\n",
    "    graph.node('WearableDevices', 'Wearable Devices')\n",
    "    graph.node('NetworkInfrastructure', 'Network Infrastructure\\n(High-speed connection)')\n",
    "    graph.node('TestingTools', 'Testing Tools\\n(Selenium, JUnit, etc.)')\n",
    "    graph.node('MonitoringTools', 'Monitoring and Analytics Tools')\n",
    "    graph.node('DeploymentTools', 'Deployment and CI/CD Tools')\n",
    "    graph.node('BackupRecovery', 'Backup and Recovery Mechanisms')\n",
    "    graph.node('DocumentationTools', 'Documentation Tools\\n(Wiki, Documentation)')\n",
    "    graph.node('VersionControl', 'Version Control System\\n(Git)')\n",
    "    graph.node('UserSupport', 'User Support and Feedback Tools')\n",
    "\n",
    "    # Add edges to the graph\n",
    "    graph.edges([('Internet', 'Firewall'), ('Firewall', 'WebServer'), ('WebServer', 'BackendServer'),\n",
    "                 ('BackendServer', 'DatabaseServer'), ('MobileDevices', 'WearableDevices'),\n",
    "                 ('WearableDevices', 'NetworkInfrastructure'), ('NetworkInfrastructure', 'TestingTools'),\n",
    "                 ('TestingTools', 'MonitoringTools'), ('MonitoringTools', 'DeploymentTools'),\n",
    "                 ('DeploymentTools', 'BackupRecovery'), ('BackupRecovery', 'DocumentationTools'),\n",
    "                 ('DocumentationTools', 'VersionControl'), ('VersionControl', 'UserSupport')])\n",
    "\n",
    "    # Save the diagram as a PNG file\n",
    "    graph.render(view=True)\n",
    "\n",
    "if __name__ == \"__main__\":\n",
    "    create_test_environment_diagram()\n"
   ]
  }
 ],
 "metadata": {
  "kernelspec": {
   "display_name": "Python 3",
   "language": "python",
   "name": "python3"
  },
  "language_info": {
   "codemirror_mode": {
    "name": "ipython",
    "version": 3
   },
   "file_extension": ".py",
   "mimetype": "text/x-python",
   "name": "python",
   "nbconvert_exporter": "python",
   "pygments_lexer": "ipython3",
   "version": "3.11.6"
  }
 },
 "nbformat": 4,
 "nbformat_minor": 2
}
